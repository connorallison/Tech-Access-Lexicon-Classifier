{
 "cells": [
  {
   "cell_type": "markdown",
   "id": "0b0d0912-cc30-47ff-a8e5-9bf9e0841577",
   "metadata": {},
   "source": [
    "# Final Model \n",
    "Group: Data Trafficerz\n",
    "\n",
    "Names: Connor Allison, Nicholas Mata, Joel Fry, Royalpriesthood Olola "
   ]
  },
  {
   "cell_type": "code",
   "execution_count": 797,
   "id": "ec147ed8-d6a2-49a9-81c8-f05b34095163",
   "metadata": {
    "scrolled": true
   },
   "outputs": [],
   "source": [
    "import csv\n",
    "from sklearn.svm import LinearSVC\n",
    "from sklearn.model_selection import train_test_split\n",
    "from sklearn.feature_extraction.text import CountVectorizer\n",
    "from sklearn.metrics import accuracy_score, f1_score\n",
    "from sklearn.pipeline import Pipeline\n",
    "from sklearn.model_selection import GridSearchCV\n",
    "\n",
    "import numpy as np\n",
    "np.random.seed(20)\n",
    "import random\n",
    "random.seed(20)\n",
    "\n",
    "X_acc = []\n",
    "y_acc = []\n",
    "with open('access_data.csv') as acc_file:\n",
    "    aCSV = csv.reader(acc_file, delimiter=',')\n",
    "    for row in aCSV:\n",
    "        try:\n",
    "            y_acc.append(int(row[1]))\n",
    "            X_acc.append(row[0])\n",
    "        except:\n",
    "            continue\n",
    "\n",
    "\n",
    "X_tech = []\n",
    "y_tech = []\n",
    "with open('tech_data.csv') as tech_file:\n",
    "    tCSV = csv.reader(tech_file, delimiter=',')\n",
    "    for row in tCSV:\n",
    "        try:\n",
    "            y_tech.append(int(row[1]))\n",
    "            X_tech.append(row[0])\n",
    "        except:\n",
    "            continue\n",
    "        \n",
    "\n",
    "X_acc_train, X_acc_temp, y_acc_train, y_acc_temp = train_test_split(X_acc, y_acc, test_size=0.3, random_state=20)\n",
    "X_acc_val, X_acc_test, y_acc_val, y_acc_test = train_test_split(X_acc_temp, y_acc_temp, test_size=0.5, random_state=20)\n",
    "\n",
    "X_tech_train, X_tech_temp, y_tech_train, y_tech_temp = train_test_split(X_tech, y_tech, test_size=0.3, random_state=20)\n",
    "X_tech_val, X_tech_test, y_tech_val, y_tech_test = train_test_split(X_tech_temp, y_tech_temp, test_size=0.5, random_state=20)"
   ]
  },
  {
   "cell_type": "code",
   "execution_count": 847,
   "id": "5e0cc030-7e3d-4b78-828b-bbaf18d62287",
   "metadata": {},
   "outputs": [],
   "source": [
    "class LexiconClassifier():\n",
    "    def __init__(self):\n",
    "        \"\"\"\n",
    "            Initalize the Lexicon classifer by loading lexicons. \n",
    "        \"\"\"\n",
    "        self.access_words = set()\n",
    "        with open('AccessibilityWords.csv') as iFile:\n",
    "            iCSV = csv.reader(iFile, delimiter=',')\n",
    "            for row in iCSV:\n",
    "                for i in row:\n",
    "                    self.access_words.add(i.lower().strip())\n",
    "\n",
    "        self.tech_words = set()\n",
    "        with open('TechWords.csv') as tFile:\n",
    "            tCSV = csv.reader(tFile, delimiter=',')\n",
    "            for row in tCSV:\n",
    "                for i in row:\n",
    "                    self.tech_words.add(i.lower().strip())\n",
    "\n",
    "    def acc_predict(self, sentence):\n",
    "        num_access_words = 0\n",
    "        \n",
    "        for word in sentence.lower().split():\n",
    "            if word in self.access_words:\n",
    "                num_access_words += 1\n",
    "               \n",
    "        if num_access_words > 0:\n",
    "            pred = 1\n",
    "        else:\n",
    "            pred = 0\n",
    "            \n",
    "        return pred\n",
    "    \n",
    "    \n",
    "    def tech_predict(self, sentence):\n",
    "        num_tech_words = 0\n",
    "        \n",
    "        for word in sentence.lower().split():\n",
    "            if word in self.tech_words:\n",
    "                num_tech_words += 1\n",
    "               \n",
    "        if num_tech_words > 0:\n",
    "            pred = 1\n",
    "        else:\n",
    "            pred = 0\n",
    "            \n",
    "        return pred\n",
    "\n",
    "    \n",
    "    def count_access_words(self, sentence):\n",
    "        num_access_words = 0\n",
    "        for word in sentence.lower().split():\n",
    "            if word in self.access_words:\n",
    "                num_access_words += 1\n",
    "        return num_access_words\n",
    "\n",
    "    \n",
    "    def count_tech_words(self, sentence):\n",
    "        num_tech_words = 0\n",
    "        for word in sentence.lower().split():\n",
    "            if word in self.tech_words:\n",
    "                num_tech_words += 1\n",
    "        return num_tech_words\n"
   ]
  },
  {
   "cell_type": "code",
   "execution_count": 801,
   "id": "7173c6a8-6c94-4312-81b0-c024336633a5",
   "metadata": {},
   "outputs": [],
   "source": [
    "lexicon_classifier = LexiconClassifier()\n",
    "\n",
    "\n",
    "X_acc_train_lexicon_features = [] \n",
    "X_acc_val_lexicon_features = [] \n",
    "X_acc_test_lexicon_features = [] \n",
    "\n",
    "for i in X_acc_train: \n",
    "    iList = []\n",
    "    iList.append(lexicon_classifier.count_access_words(i))\n",
    "    X_acc_train_lexicon_features.append(iList)\n",
    "    \n",
    "for i in X_acc_val: \n",
    "    iList = []\n",
    "    iList.append(lexicon_classifier.count_access_words(i))\n",
    "    X_acc_val_lexicon_features.append(iList)\n",
    "    \n",
    "for i in X_acc_test: \n",
    "    iList = []\n",
    "    iList.append(lexicon_classifier.count_access_words(i))\n",
    "    X_acc_test_lexicon_features.append(iList)"
   ]
  },
  {
   "cell_type": "code",
   "execution_count": 803,
   "id": "0ab0d4f3-a288-481f-b8d4-1659364cf09c",
   "metadata": {},
   "outputs": [],
   "source": [
    "X_tech_train_lexicon_features = [] \n",
    "X_tech_val_lexicon_features = [] \n",
    "X_tech_test_lexicon_features = [] \n",
    "\n",
    "for i in X_tech_train: \n",
    "    iList = []\n",
    "    iList.append(lexicon_classifier.count_tech_words(i))\n",
    "    X_tech_train_lexicon_features.append(iList)\n",
    "    \n",
    "for i in X_tech_val: \n",
    "    iList = []\n",
    "    iList.append(lexicon_classifier.count_tech_words(i))\n",
    "    X_tech_val_lexicon_features.append(iList)\n",
    "    \n",
    "for i in X_tech_test: \n",
    "    iList = []\n",
    "    iList.append(lexicon_classifier.count_tech_words(i))\n",
    "    X_tech_test_lexicon_features.append(iList)"
   ]
  },
  {
   "cell_type": "code",
   "execution_count": 807,
   "id": "ea544d92-267c-4a9a-ab11-7686f8797304",
   "metadata": {},
   "outputs": [],
   "source": [
    "import scipy.sparse as sp\n",
    "from sklearn.feature_extraction.text import TfidfVectorizer\n",
    "\n",
    "vec2 = TfidfVectorizer(ngram_range = (1,1))\n",
    "vec = CountVectorizer(ngram_range = (1,2), min_df = 3, max_df = 0.95)\n",
    "X_acc_train2 = vec.fit_transform(X_acc_train)\n",
    "X_acc_val2 = vec.transform(X_acc_val)\n",
    "X_acc_test2 = vec.transform(X_acc_test)\n",
    "\n",
    "X_acc_train_lexicon_features = np.array(X_acc_train_lexicon_features)\n",
    "X_acc_val_lexicon_features = np.array(X_acc_val_lexicon_features)\n",
    "X_acc_test_lexicon_features = np.array(X_acc_test_lexicon_features)\n",
    "\n",
    "X_acc_train_w_lex = sp.hstack([X_acc_train2, X_acc_train_lexicon_features])\n",
    "X_acc_val_w_lex = sp.hstack([X_acc_val2, X_acc_val_lexicon_features])\n",
    "X_acc_test_w_lex = sp.hstack([X_acc_test2, X_acc_test_lexicon_features])\n",
    "\n",
    "\n",
    "X_tech_train2 = vec2.fit_transform(X_tech_train)\n",
    "X_tech_val2 = vec2.transform(X_tech_val)\n",
    "X_tech_test2 = vec2.transform(X_tech_test)\n",
    "\n",
    "X_tech_train_lexicon_features = np.array(X_tech_train_lexicon_features)\n",
    "X_tech_val_lexicon_features = np.array(X_tech_val_lexicon_features)\n",
    "X_tech_test_lexicon_features = np.array(X_tech_test_lexicon_features)\n",
    "\n",
    "X_tech_train_w_lex = sp.hstack([X_tech_train2, X_tech_train_lexicon_features])\n",
    "X_tech_val_w_lex = sp.hstack([X_tech_val2, X_tech_val_lexicon_features])\n",
    "X_tech_test_w_lex = sp.hstack([X_tech_test2, X_tech_test_lexicon_features])"
   ]
  },
  {
   "cell_type": "markdown",
   "id": "03ca9fb3-ce9e-4f14-9ad4-cbfa05bccfd6",
   "metadata": {},
   "source": [
    "Accessibility Model Validation"
   ]
  },
  {
   "cell_type": "code",
   "execution_count": 852,
   "id": "8c6ecb6b-08a0-47e0-ab61-bf6385695c28",
   "metadata": {},
   "outputs": [
    {
     "name": "stdout",
     "output_type": "stream",
     "text": [
      "Best params for Accessibility: {'C': 0.1}\n",
      "Acc Val Macro Precision: 0.8015\n",
      "Acc Val Macro Recall: 0.7759\n",
      "Acc Val Macro F1: 0.7855\n",
      "Acc Val Micro Precision: 0.8133\n",
      "Acc Val Micro Recall: 0.8133\n",
      "Acc Val Micro F1: 0.8133\n",
      "Acc Val Misclassification Rate: 0.1867\n"
     ]
    }
   ],
   "source": [
    "from sklearn.svm import LinearSVC\n",
    "from sklearn.model_selection import GridSearchCV\n",
    "from sklearn.metrics import precision_score, recall_score, f1_score, accuracy_score\n",
    "\n",
    "\n",
    "svc_acc = LinearSVC(max_iter = 10000, dual = False, tol=1e-4)\n",
    "params_acc = {\n",
    "    'C': [ 0.001, 0.01, 0.1, 1, 10],\n",
    "    }\n",
    "\n",
    "skf = StratifiedKFold(n_splits=5)\n",
    "clf_acc = GridSearchCV(svc_acc, params_acc, scoring='f1_macro', cv=skf)\n",
    "clf_acc.fit(X_acc_train2, y_acc_train)\n",
    "\n",
    "print(f\"Best params for Accessibility: {clf_acc.best_params_}\")\n",
    "\n",
    "acc_val_preds = clf_acc.predict(X_acc_val2)\n",
    "\n",
    "acc_mac_val_precision = precision_score(y_acc_val, acc_val_preds, average='macro')\n",
    "acc_mac_val_recall = recall_score(y_acc_val, acc_val_preds, average='macro')\n",
    "acc_mac_val_f1 = f1_score(y_acc_val, acc_val_preds, average='macro')\n",
    "acc_mic_val_precision = precision_score(y_acc_val, acc_val_preds, average='micro')\n",
    "acc_mic_val_recall = recall_score(y_acc_val, acc_val_preds, average='micro')\n",
    "acc_mic_val_f1 = f1_score(y_acc_val, acc_val_preds, average='micro')\n",
    "acc_val_mis = 1 - accuracy_score(y_acc_val, acc_val_preds)\n",
    "print(\"Acc Val Macro Precision: {:.4f}\".format(acc_mac_val_precision))\n",
    "print(\"Acc Val Macro Recall: {:.4f}\".format(acc_mac_val_recall))\n",
    "print(\"Acc Val Macro F1: {:.4f}\".format(acc_mac_val_f1))\n",
    "print(\"Acc Val Micro Precision: {:.4f}\".format(acc_mic_val_precision))\n",
    "print(\"Acc Val Micro Recall: {:.4f}\".format(acc_mic_val_recall))\n",
    "print(\"Acc Val Micro F1: {:.4f}\".format(acc_mic_val_f1))\n",
    "print(\"Acc Val Misclassification Rate: {:.4f}\".format(acc_val_mis))"
   ]
  },
  {
   "cell_type": "code",
   "execution_count": 811,
   "id": "9e898b76-7fb2-467a-9f1d-114aedf58dea",
   "metadata": {},
   "outputs": [
    {
     "name": "stdout",
     "output_type": "stream",
     "text": [
      "Best params for Accessibility: {'C': 0.01}\n",
      "Acc Val Macro Precision: 0.7649\n",
      "Acc Val Macro Recall: 0.6572\n",
      "Acc Val Macro F1: 0.6652\n",
      "Acc Val Micro Precision: 0.7467\n",
      "Acc Val Micro Recall: 0.7467\n",
      "Acc Val Micro F1: 0.7467\n",
      "Acc Val Misclassification Rate: 0.2533\n"
     ]
    }
   ],
   "source": [
    "svc_acc = LinearSVC(max_iter = 10000, dual = False, tol=1e-4)\n",
    "params_acc = {\n",
    "    'C': [ 0.001, 0.01, 0.1, 1, 10],\n",
    "    }\n",
    "\n",
    "skf = StratifiedKFold(n_splits=5)\n",
    "clf_acc = GridSearchCV(svc_acc, params_acc, scoring='f1_macro', cv=skf)\n",
    "clf_acc.fit(X_acc_train_lexicon_features, y_acc_train)\n",
    "\n",
    "print(f\"Best params for Accessibility: {clf_acc.best_params_}\")\n",
    "\n",
    "acc_val_preds = clf_acc.predict(X_acc_val_lexicon_features)\n",
    "\n",
    "acc_mac_val_precision = precision_score(y_acc_val, acc_val_preds, average='macro')\n",
    "acc_mac_val_recall = recall_score(y_acc_val, acc_val_preds, average='macro')\n",
    "acc_mac_val_f1 = f1_score(y_acc_val, acc_val_preds, average='macro')\n",
    "acc_mic_val_precision = precision_score(y_acc_val, acc_val_preds, average='micro')\n",
    "acc_mic_val_recall = recall_score(y_acc_val, acc_val_preds, average='micro')\n",
    "acc_mic_val_f1 = f1_score(y_acc_val, acc_val_preds, average='micro')\n",
    "acc_val_mis = 1 - accuracy_score(y_acc_val, acc_val_preds)\n",
    "print(\"Acc Val Macro Precision: {:.4f}\".format(acc_mac_val_precision))\n",
    "print(\"Acc Val Macro Recall: {:.4f}\".format(acc_mac_val_recall))\n",
    "print(\"Acc Val Macro F1: {:.4f}\".format(acc_mac_val_f1))\n",
    "print(\"Acc Val Micro Precision: {:.4f}\".format(acc_mic_val_precision))\n",
    "print(\"Acc Val Micro Recall: {:.4f}\".format(acc_mic_val_recall))\n",
    "print(\"Acc Val Micro F1: {:.4f}\".format(acc_mic_val_f1))\n",
    "print(\"Acc Val Misclassification Rate: {:.4f}\".format(acc_val_mis))"
   ]
  },
  {
   "cell_type": "code",
   "execution_count": 854,
   "id": "fa01ee3e-a3a9-4cd6-9bf7-5cc95c9bd152",
   "metadata": {},
   "outputs": [
    {
     "name": "stdout",
     "output_type": "stream",
     "text": [
      "Best params for Accessibility: {'C': 0.1}\n",
      "Acc Val Macro Precision: 0.8053\n",
      "Acc Val Macro Recall: 0.7900\n",
      "Acc Val Macro F1: 0.7965\n",
      "Acc Val Micro Precision: 0.8200\n",
      "Acc Val Micro Recall: 0.8200\n",
      "Acc Val Micro F1: 0.8200\n",
      "Acc Val Misclassification Rate: 0.1800\n"
     ]
    }
   ],
   "source": [
    "svc_acc = LinearSVC(max_iter = 10000, dual = False, tol=1e-4)\n",
    "params_acc = {\n",
    "    'C': [ 0.001, 0.01, 0.1, 1, 10],\n",
    "    }\n",
    "\n",
    "skf = StratifiedKFold(n_splits=5)\n",
    "clf_acc = GridSearchCV(svc_acc, params_acc, scoring='f1_macro', cv=skf, refit=True)\n",
    "clf_acc.fit(X_acc_train_w_lex, y_acc_train)\n",
    "\n",
    "print(f\"Best params for Accessibility: {clf_acc.best_params_}\")\n",
    "\n",
    "acc_val_preds = clf_acc.predict(X_acc_val_w_lex)\n",
    "\n",
    "acc_mac_val_precision = precision_score(y_acc_val, acc_val_preds, average='macro')\n",
    "acc_mac_val_recall = recall_score(y_acc_val, acc_val_preds, average='macro')\n",
    "acc_mac_val_f1 = f1_score(y_acc_val, acc_val_preds, average='macro')\n",
    "acc_mic_val_precision = precision_score(y_acc_val, acc_val_preds, average='micro')\n",
    "acc_mic_val_recall = recall_score(y_acc_val, acc_val_preds, average='micro')\n",
    "acc_mic_val_f1 = f1_score(y_acc_val, acc_val_preds, average='micro')\n",
    "acc_val_mis = 1 - accuracy_score(y_acc_val, acc_val_preds)\n",
    "print(\"Acc Val Macro Precision: {:.4f}\".format(acc_mac_val_precision))\n",
    "print(\"Acc Val Macro Recall: {:.4f}\".format(acc_mac_val_recall))\n",
    "print(\"Acc Val Macro F1: {:.4f}\".format(acc_mac_val_f1))\n",
    "print(\"Acc Val Micro Precision: {:.4f}\".format(acc_mic_val_precision))\n",
    "print(\"Acc Val Micro Recall: {:.4f}\".format(acc_mic_val_recall))\n",
    "print(\"Acc Val Micro F1: {:.4f}\".format(acc_mic_val_f1))\n",
    "print(\"Acc Val Misclassification Rate: {:.4f}\".format(acc_val_mis))"
   ]
  },
  {
   "cell_type": "markdown",
   "id": "3f662b30-ddf2-4543-b131-2252f499952d",
   "metadata": {},
   "source": [
    "Technology Model Validation"
   ]
  },
  {
   "cell_type": "code",
   "execution_count": 815,
   "id": "7ef91725-4561-4a84-8b37-5e1df7d877bf",
   "metadata": {},
   "outputs": [
    {
     "name": "stdout",
     "output_type": "stream",
     "text": [
      "Best params for Technology: {'C': 0.01, 'penalty': 'l1'}\n",
      "Tech Val Macro Precision: 0.8013\n",
      "Tech Val Macro Recall: 0.8030\n",
      "Tech Val Macro F1: 0.7999\n",
      "Tech Val Micro Precision: 0.8000\n",
      "Tech Val Micro Recall: 0.8000\n",
      "Tech Val Micro F1: 0.8000\n",
      "Tech Val Misclassification Rate: 0.2000\n"
     ]
    }
   ],
   "source": [
    "svc_tech = LinearSVC(max_iter = 12000, dual = False, tol=1e-4)\n",
    "params_tech = {'C': [0.01, 0.1, 0.5, 1, 2, 10],\n",
    "              'penalty': ['l1', 'l2'],}\n",
    "\n",
    "skf = StratifiedKFold(n_splits=5)\n",
    "clf_tech = GridSearchCV(svc_tech, params_tech, scoring='f1_macro', cv=skf)\n",
    "clf_tech.fit(X_tech_train_lexicon_features, y_tech_train)\n",
    "\n",
    "print(f\"Best params for Technology: {clf_tech.best_params_}\")\n",
    "\n",
    "tech_val_preds = clf_tech.predict(X_tech_val_lexicon_features)\n",
    "\n",
    "tech_mac_val_precision = precision_score(y_tech_val, tech_val_preds, average='macro')\n",
    "tech_mac_val_recall = recall_score(y_tech_val, tech_val_preds, average='macro')\n",
    "tech_mac_val_f1 = f1_score(y_tech_val, tech_val_preds, average='macro')\n",
    "tech_mic_val_precision = precision_score(y_tech_val, tech_val_preds, average='micro')\n",
    "tech_mic_val_recall = recall_score(y_tech_val, tech_val_preds, average='micro')\n",
    "tech_mic_val_f1 = f1_score(y_tech_val, tech_val_preds, average='micro')\n",
    "tech_val_mis = 1 - accuracy_score(y_tech_val, tech_val_preds)\n",
    "print(\"Tech Val Macro Precision: {:.4f}\".format(tech_mac_val_precision))\n",
    "print(\"Tech Val Macro Recall: {:.4f}\".format(tech_mac_val_recall))\n",
    "print(\"Tech Val Macro F1: {:.4f}\".format(tech_mac_val_f1))\n",
    "print(\"Tech Val Micro Precision: {:.4f}\".format(tech_mic_val_precision))\n",
    "print(\"Tech Val Micro Recall: {:.4f}\".format(tech_mic_val_recall))\n",
    "print(\"Tech Val Micro F1: {:.4f}\".format(tech_mic_val_f1))\n",
    "print(\"Tech Val Misclassification Rate: {:.4f}\".format(tech_val_mis))"
   ]
  },
  {
   "cell_type": "code",
   "execution_count": 856,
   "id": "394b818d-660f-4314-8cc6-464e8da5be21",
   "metadata": {},
   "outputs": [
    {
     "name": "stdout",
     "output_type": "stream",
     "text": [
      "Best params for Technology: {'C': 2, 'penalty': 'l1'}\n",
      "Tech Val Macro Precision: 0.8347\n",
      "Tech Val Macro Recall: 0.8331\n",
      "Tech Val Macro F1: 0.8266\n",
      "Tech Val Micro Precision: 0.8267\n",
      "Tech Val Micro Recall: 0.8267\n",
      "Tech Val Micro F1: 0.8267\n",
      "Tech Val Misclassification Rate: 0.1733\n"
     ]
    }
   ],
   "source": [
    "svc_tech = LinearSVC(max_iter = 12000, dual = False, tol=1e-4)\n",
    "params_tech = {'C': [0.01, 0.1, 0.5, 1, 2, 10],\n",
    "              'penalty': ['l1', 'l2'],}\n",
    "\n",
    "skf = StratifiedKFold(n_splits=5)\n",
    "clf_tech = GridSearchCV(svc_tech, params_tech, scoring='f1_macro', cv=skf, refit=True)\n",
    "clf_tech.fit(X_tech_train2, y_tech_train)\n",
    "\n",
    "print(f\"Best params for Technology: {clf_tech.best_params_}\")\n",
    "\n",
    "tech_val_preds = clf_tech.predict(X_tech_val2)\n",
    "\n",
    "tech_mac_val_precision = precision_score(y_tech_val, tech_val_preds, average='macro')\n",
    "tech_mac_val_recall = recall_score(y_tech_val, tech_val_preds, average='macro')\n",
    "tech_mac_val_f1 = f1_score(y_tech_val, tech_val_preds, average='macro')\n",
    "tech_mic_val_precision = precision_score(y_tech_val, tech_val_preds, average='micro')\n",
    "tech_mic_val_recall = recall_score(y_tech_val, tech_val_preds, average='micro')\n",
    "tech_mic_val_f1 = f1_score(y_tech_val, tech_val_preds, average='micro')\n",
    "tech_val_mis = 1 - accuracy_score(y_tech_val, tech_val_preds)\n",
    "print(\"Tech Val Macro Precision: {:.4f}\".format(tech_mac_val_precision))\n",
    "print(\"Tech Val Macro Recall: {:.4f}\".format(tech_mac_val_recall))\n",
    "print(\"Tech Val Macro F1: {:.4f}\".format(tech_mac_val_f1))\n",
    "print(\"Tech Val Micro Precision: {:.4f}\".format(tech_mic_val_precision))\n",
    "print(\"Tech Val Micro Recall: {:.4f}\".format(tech_mic_val_recall))\n",
    "print(\"Tech Val Micro F1: {:.4f}\".format(tech_mic_val_f1))\n",
    "print(\"Tech Val Misclassification Rate: {:.4f}\".format(tech_val_mis))"
   ]
  },
  {
   "cell_type": "code",
   "execution_count": 874,
   "id": "3b909ef8-079a-4a17-92cf-da742d421845",
   "metadata": {},
   "outputs": [
    {
     "name": "stdout",
     "output_type": "stream",
     "text": [
      "Best params for Technology: {'C': 1, 'penalty': 'l1'}\n",
      "Tech Val Macro Precision: 0.8160\n",
      "Tech Val Macro Recall: 0.8135\n",
      "Tech Val Macro F1: 0.8066\n",
      "Tech Val Micro Precision: 0.8067\n",
      "Tech Val Micro Recall: 0.8067\n",
      "Tech Val Micro F1: 0.8067\n",
      "Tech Val Misclassification Rate: 0.1933\n"
     ]
    }
   ],
   "source": [
    "svc_tech = LinearSVC(max_iter = 10000, dual = False, tol=1e-4)\n",
    "params_tech = {'C': [0.01, 0.1, 0.5, 1, 2, 10],\n",
    "              'penalty': ['l1', 'l2'],}\n",
    "\n",
    "clf_tech = GridSearchCV(svc_tech, params_tech, scoring='f1_macro', cv=5)\n",
    "clf_tech.fit(X_tech_train_w_lex, y_tech_train)\n",
    "\n",
    "print(f\"Best params for Technology: {clf_tech.best_params_}\")\n",
    "\n",
    "tech_val_preds = clf_tech.predict(X_tech_val_w_lex)\n",
    "\n",
    "tech_mac_val_precision = precision_score(y_tech_val, tech_val_preds, average='macro')\n",
    "tech_mac_val_recall = recall_score(y_tech_val, tech_val_preds, average='macro')\n",
    "tech_mac_val_f1 = f1_score(y_tech_val, tech_val_preds, average='macro')\n",
    "tech_mic_val_precision = precision_score(y_tech_val, tech_val_preds, average='micro')\n",
    "tech_mic_val_recall = recall_score(y_tech_val, tech_val_preds, average='micro')\n",
    "tech_mic_val_f1 = f1_score(y_tech_val, tech_val_preds, average='micro')\n",
    "tech_val_mis = 1 - accuracy_score(y_tech_val, tech_val_preds)\n",
    "print(\"Tech Val Macro Precision: {:.4f}\".format(tech_mac_val_precision))\n",
    "print(\"Tech Val Macro Recall: {:.4f}\".format(tech_mac_val_recall))\n",
    "print(\"Tech Val Macro F1: {:.4f}\".format(tech_mac_val_f1))\n",
    "print(\"Tech Val Micro Precision: {:.4f}\".format(tech_mic_val_precision))\n",
    "print(\"Tech Val Micro Recall: {:.4f}\".format(tech_mic_val_recall))\n",
    "print(\"Tech Val Micro F1: {:.4f}\".format(tech_mic_val_f1))\n",
    "print(\"Tech Val Misclassification Rate: {:.4f}\".format(tech_val_mis))"
   ]
  },
  {
   "cell_type": "markdown",
   "id": "4ffec049-d3a6-4bfd-a4e4-9949be424fae",
   "metadata": {},
   "source": [
    "Accessibility Model Test"
   ]
  },
  {
   "cell_type": "code",
   "execution_count": 866,
   "id": "23d890d8-1a60-4531-9d36-1b275f466591",
   "metadata": {},
   "outputs": [
    {
     "name": "stdout",
     "output_type": "stream",
     "text": [
      "Best params for Accessibility: {'C': 0.1}\n",
      "Acc Test Macro Precision: 0.8191\n",
      "Acc Test Macro Recall: 0.7952\n",
      "Acc Test Macro F1: 0.8055\n",
      "Acc Test Micro Precision: 0.8467\n",
      "Acc Test Micro Recall: 0.8467\n",
      "Acc Test Micro F1: 0.8467\n",
      "Acc Test Misclassification Rate: 0.1533\n"
     ]
    }
   ],
   "source": [
    "svc_acc = LinearSVC(max_iter = 10000, dual = False, tol=1e-4)\n",
    "params_acc = {'C': [0.001, 0.01, 0.1, 1, 10]}\n",
    "\n",
    "skf = StratifiedKFold(n_splits=5)\n",
    "clf_acc = GridSearchCV(svc_acc, params_acc, scoring='f1_macro', cv=skf)\n",
    "clf_acc.fit(X_acc_train_w_lex, y_acc_train)\n",
    "\n",
    "print(f\"Best params for Accessibility: {clf_acc.best_params_}\")\n",
    "\n",
    "acc_test_preds = clf_acc.predict(X_acc_test_w_lex)\n",
    "\n",
    "acc_mac_test_precision = precision_score(y_acc_test, acc_test_preds, average='macro')\n",
    "acc_mac_test_recall = recall_score(y_acc_test, acc_test_preds, average='macro')\n",
    "acc_mac_test_f1 = f1_score(y_acc_test, acc_test_preds, average='macro')\n",
    "acc_mic_test_precision = precision_score(y_acc_test, acc_test_preds, average='micro')\n",
    "acc_mic_test_recall = recall_score(y_acc_test, acc_test_preds, average='micro')\n",
    "acc_mic_test_f1 = f1_score(y_acc_test, acc_test_preds, average='micro')\n",
    "acc_test_mis = 1 - accuracy_score(y_acc_test, acc_test_preds)\n",
    "print(\"Acc Test Macro Precision: {:.4f}\".format(acc_mac_test_precision))\n",
    "print(\"Acc Test Macro Recall: {:.4f}\".format(acc_mac_test_recall))\n",
    "print(\"Acc Test Macro F1: {:.4f}\".format(acc_mac_test_f1))\n",
    "print(\"Acc Test Micro Precision: {:.4f}\".format(acc_mic_test_precision))\n",
    "print(\"Acc Test Micro Recall: {:.4f}\".format(acc_mic_test_recall))\n",
    "print(\"Acc Test Micro F1: {:.4f}\".format(acc_mic_test_f1))\n",
    "print(\"Acc Test Misclassification Rate: {:.4f}\".format(acc_test_mis))"
   ]
  },
  {
   "cell_type": "code",
   "execution_count": 825,
   "id": "e8fb8f59-4d64-4916-9fce-3fd3c15b94da",
   "metadata": {},
   "outputs": [
    {
     "name": "stdout",
     "output_type": "stream",
     "text": [
      "Misclassification Rates per Acc Class:\n",
      "Acc Class 0: 0.0841\n",
      "Acc Class 1: 0.3256\n"
     ]
    }
   ],
   "source": [
    "from sklearn.metrics import confusion_matrix\n",
    "\n",
    "cm = confusion_matrix(y_acc_test, acc_test_preds)\n",
    "\n",
    "class_misclassification = {}\n",
    "for i in range(len(cm)):\n",
    "    class_total = np.sum(cm[i])\n",
    "    class_correct = cm[i, i]\n",
    "    class_misclassification_rate = 1 - (class_correct / class_total)\n",
    "    class_misclassification[i] = class_misclassification_rate\n",
    "\n",
    "print(\"Misclassification Rates per Acc Class:\")\n",
    "for cls, rate in class_misclassification.items():\n",
    "    print(f\"Acc Class {cls}: {rate:.4f}\")"
   ]
  },
  {
   "cell_type": "markdown",
   "id": "6ad4d665-502c-40c8-a3f5-c8fc25fde239",
   "metadata": {},
   "source": [
    "Technology Model Test"
   ]
  },
  {
   "cell_type": "code",
   "execution_count": 878,
   "id": "10e537e0-d258-47fd-b86f-d8e471cae584",
   "metadata": {},
   "outputs": [
    {
     "name": "stdout",
     "output_type": "stream",
     "text": [
      "Best params for Technology: {'C': 1, 'penalty': 'l1'}\n",
      "Tech Test Macro Precision: 0.8071\n",
      "Tech Test Macro Recall: 0.8167\n",
      "Tech Test Macro F1: 0.8108\n",
      "Tech Test Micro Precision: 0.8200\n",
      "Tech Test Micro Recall: 0.8200\n",
      "Tech Test Micro F1: 0.8200\n",
      "Tech Test Misclassification Rate: 0.1800\n"
     ]
    }
   ],
   "source": [
    "svc_tech = LinearSVC(max_iter = 10000, dual = False, tol=1e-4)\n",
    "params_tech = {'C': [0.01, 0.1, 0.5, 1, 2, 10],\n",
    "              'penalty': ['l1', 'l2'],}\n",
    "\n",
    "skf = StratifiedKFold(n_splits=5)\n",
    "clf_tech = GridSearchCV(svc_tech, params_tech, scoring='f1_macro', cv=skf)\n",
    "clf_tech.fit(X_tech_train_w_lex, y_tech_train)\n",
    "\n",
    "print(f\"Best params for Technology: {clf_tech.best_params_}\")\n",
    "\n",
    "tech_test_preds = clf_tech.predict(X_tech_test_w_lex)\n",
    "\n",
    "tech_mac_test_precision = precision_score(y_tech_test, tech_test_preds, average='macro')\n",
    "tech_mac_test_recall = recall_score(y_tech_test, tech_test_preds, average='macro')\n",
    "tech_mac_test_f1 = f1_score(y_tech_test, tech_test_preds, average='macro')\n",
    "tech_mic_test_precision = precision_score(y_tech_test, tech_test_preds, average='micro')\n",
    "tech_mic_test_recall = recall_score(y_tech_test, tech_test_preds, average='micro')\n",
    "tech_mic_test_f1 = f1_score(y_tech_test, tech_test_preds, average='micro')\n",
    "tech_test_mis = 1 - accuracy_score(y_tech_test, tech_test_preds)\n",
    "print(\"Tech Test Macro Precision: {:.4f}\".format(tech_mac_test_precision))\n",
    "print(\"Tech Test Macro Recall: {:.4f}\".format(tech_mac_test_recall))\n",
    "print(\"Tech Test Macro F1: {:.4f}\".format(tech_mac_test_f1))\n",
    "print(\"Tech Test Micro Precision: {:.4f}\".format(tech_mic_test_precision))\n",
    "print(\"Tech Test Micro Recall: {:.4f}\".format(tech_mic_test_recall))\n",
    "print(\"Tech Test Micro F1: {:.4f}\".format(tech_mic_test_f1))\n",
    "print(\"Tech Test Misclassification Rate: {:.4f}\".format(tech_test_mis))"
   ]
  },
  {
   "cell_type": "code",
   "execution_count": 835,
   "id": "e9689c9b-bb90-462f-883c-d6af986c716a",
   "metadata": {},
   "outputs": [
    {
     "name": "stdout",
     "output_type": "stream",
     "text": [
      "Misclassification Rates per Tech Class:\n",
      "Tech Class 0: 0.1702\n",
      "Tech Class 1: 0.1964\n"
     ]
    }
   ],
   "source": [
    "cm = confusion_matrix(y_tech_test, tech_test_preds)\n",
    "\n",
    "class_misclassification = {}\n",
    "for i in range(len(cm)):\n",
    "    class_total = np.sum(cm[i])\n",
    "    class_correct = cm[i, i]\n",
    "    class_misclassification_rate = 1 - (class_correct / class_total)\n",
    "    class_misclassification[i] = class_misclassification_rate\n",
    "\n",
    "print(\"Misclassification Rates per Tech Class:\")\n",
    "for cls, rate in class_misclassification.items():\n",
    "    print(f\"Tech Class {cls}: {rate:.4f}\")"
   ]
  }
 ],
 "metadata": {
  "kernelspec": {
   "display_name": "Python 3 (ipykernel)",
   "language": "python",
   "name": "python3"
  },
  "language_info": {
   "codemirror_mode": {
    "name": "ipython",
    "version": 3
   },
   "file_extension": ".py",
   "mimetype": "text/x-python",
   "name": "python",
   "nbconvert_exporter": "python",
   "pygments_lexer": "ipython3",
   "version": "3.12.4"
  }
 },
 "nbformat": 4,
 "nbformat_minor": 5
}
