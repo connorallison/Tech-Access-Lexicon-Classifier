{
 "cells": [
  {
   "cell_type": "markdown",
   "id": "ca64487d-2c3e-46b5-aaf5-48520214690e",
   "metadata": {},
   "source": [
    "### Annotations for Final Project\n",
    "\n",
    "Group: Data Trafficerz\n",
    "\n",
    "Names: Connor Allison, Joel Fry, Nicholas Mata, RoyalPriesthood Olola\n",
    "    "
   ]
  },
  {
   "cell_type": "markdown",
   "id": "6ebea3b5-c1ff-4890-b39d-1ab5579a7cd7",
   "metadata": {},
   "source": [
    "First we need to read in each of our three CSV files to create the NP arrays for both our Technology and Accessability variables. Our annotators all annotated the same 50 tweets. "
   ]
  },
  {
   "cell_type": "code",
   "execution_count": 88,
   "id": "d1321c83-58c4-4f8a-8ed2-4edf27e38dcb",
   "metadata": {},
   "outputs": [],
   "source": [
    "import numpy as np\n",
    "import csv\n",
    "\n",
    "groupC_tech = []\n",
    "groupC_access = []\n",
    "groupN_tech = []\n",
    "groupN_access = []\n",
    "groupJ_tech = []\n",
    "groupJ_access = []\n",
    "\n",
    "\n",
    "myfile = open('GroupC_Annotations.csv')\n",
    "iCSV = csv.reader(myfile, delimiter = ',')\n",
    "next(iCSV)\n",
    "for row in iCSV:\n",
    "    groupC_tech.append(row[0])\n",
    "    groupC_access.append(row[1])    \n",
    "myfile.close()\n",
    "\n",
    "myfile = open('GroupN_Annotations.csv')\n",
    "iCSV = csv.reader(myfile, delimiter = ',')\n",
    "next(iCSV)\n",
    "for row in iCSV:\n",
    "    groupN_tech.append(row[0])\n",
    "    groupN_access.append(row[1])    \n",
    "myfile.close()\n",
    "\n",
    "myfile = open('GroupJ_Annotations.csv')\n",
    "iCSV = csv.reader(myfile, delimiter = ',')\n",
    "next(iCSV)\n",
    "for row in iCSV:\n",
    "    groupJ_tech.append(row[0])\n",
    "    groupJ_access.append(row[1])    \n",
    "myfile.close()"
   ]
  },
  {
   "cell_type": "markdown",
   "id": "88252a89-0884-4b6d-b932-eb99b2c2afec",
   "metadata": {},
   "source": [
    "Next we must combine the lists that we made in the step above to create a numpy array where each row represents an item, and columns represent the counts for each category (Technology, Nontechnology or accessability, nonaccessability). Each cell indicates how many annotators selected that category for the item. We will be left with two numpy arrays, one for tech and one for access. "
   ]
  },
  {
   "cell_type": "code",
   "execution_count": 90,
   "id": "96a18fc6-5b18-42ea-9921-b5eb993af63c",
   "metadata": {},
   "outputs": [],
   "source": [
    "tech_total = []\n",
    "access_total = []\n",
    "\n",
    "for rC, rN, rJ in zip(groupC_tech, groupN_tech, groupJ_tech):\n",
    "    item_total = [0, 0]\n",
    "    if int(rC) == 1:\n",
    "        item_total[0] += 1\n",
    "    else:\n",
    "        item_total[1] += 1\n",
    "    if int(rN) == 1:\n",
    "        item_total[0] += 1\n",
    "    else:\n",
    "        item_total[1] += 1\n",
    "    if int(rJ) == 1:\n",
    "        item_total[0] += 1\n",
    "    else:\n",
    "        item_total[1] += 1\n",
    "\n",
    "    tech_total.append(item_total)\n",
    "\n",
    "for rC, rN, rJ in zip(groupC_access, groupN_access, groupJ_access):\n",
    "    item_total = [0, 0]\n",
    "    if int(rC) == 1:\n",
    "        item_total[0] += 1\n",
    "    else:\n",
    "        item_total[1] += 1\n",
    "    if int(rN) == 1:\n",
    "        item_total[0] += 1\n",
    "    else:\n",
    "        item_total[1] += 1\n",
    "    if int(rJ) == 1:\n",
    "        item_total[0] += 1\n",
    "    else:\n",
    "        item_total[1] += 1\n",
    "    \n",
    "    access_total.append(item_total)\n",
    "\n",
    "\n",
    "tech = np.array(tech_total)\n",
    "access = np.array(access_total) "
   ]
  },
  {
   "cell_type": "markdown",
   "id": "3b0530b7-e763-417a-baa6-d0d615fa9666",
   "metadata": {},
   "source": [
    "Next we can use these numpy arrays to calculate the fleiss kappa for tech ratings and access ratings. We are using fleiss in order to compare all annotators collectively. "
   ]
  },
  {
   "cell_type": "code",
   "execution_count": 92,
   "id": "0f988049-3f99-4bd6-a577-498933d3c8f9",
   "metadata": {},
   "outputs": [
    {
     "name": "stdout",
     "output_type": "stream",
     "text": [
      "Technology Fleiss' Kappa: 0.6185\n",
      "Accessability Fleiss' Kappa: 0.5876\n"
     ]
    }
   ],
   "source": [
    "from statsmodels.stats.inter_rater import fleiss_kappa\n",
    "\n",
    "kappa = fleiss_kappa(tech, method='fleiss')\n",
    "print(\"Technology Fleiss' Kappa: {:.4f}\".format(kappa))\n",
    "\n",
    "kappa = fleiss_kappa(access, method='fleiss')\n",
    "print(\"Accessability Fleiss' Kappa: {:.4f}\".format(kappa))"
   ]
  },
  {
   "cell_type": "markdown",
   "id": "b09e63c3-14ca-4865-9d7e-db9a4617b62c",
   "metadata": {},
   "source": [
    "According to standard convention, our technology Fliess' Kappa is good (>.6) and our accessability Fleiss' Kappa is decent (just below .6)"
   ]
  },
  {
   "cell_type": "markdown",
   "id": "1fb9e232-b3aa-4fd7-9126-d2cd799d7a18",
   "metadata": {},
   "source": [
    "After manually reviewing the annotations, the disagreeing annotations were (format: index#, t = disagree tech, a disagree access and ta disagree on both, (gold standard value set)): 1t (0, 1), 2t (0, 1), 6ta (1, 1), 8a (1, 1), 14t (1, 1), 17t (0, 1), 19ta (0, 0), 21t (0, 0), 24a (0, 0), 26a (1, 1), 28t (0, 1), 29a (0, 0), 30a (1, 1), 31a (0, 0), 32a (0, 0), 37a (1, 0), 38t (0, 1), 39ta (0, 0), 41a (1, 1), 43t (0, 0), 44a (1, 1), 48ta (0, 0), 49ta (0, 1), 50t (1, 0)"
   ]
  }
 ],
 "metadata": {
  "kernelspec": {
   "display_name": "Python 3 (ipykernel)",
   "language": "python",
   "name": "python3"
  },
  "language_info": {
   "codemirror_mode": {
    "name": "ipython",
    "version": 3
   },
   "file_extension": ".py",
   "mimetype": "text/x-python",
   "name": "python",
   "nbconvert_exporter": "python",
   "pygments_lexer": "ipython3",
   "version": "3.12.4"
  }
 },
 "nbformat": 4,
 "nbformat_minor": 5
}
